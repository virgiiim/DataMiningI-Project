{
 "cells": [
  {
   "cell_type": "markdown",
   "metadata": {
    "heading_collapsed": true
   },
   "source": [
    "## Import"
   ]
  },
  {
   "cell_type": "code",
   "execution_count": null,
   "metadata": {
    "hidden": true
   },
   "outputs": [],
   "source": [
    "import pandas as pd\n",
    "import numpy as np\n",
    "\n",
    "import matplotlib.pyplot as plt\n",
    "import seaborn as sns\n",
    "\n",
    "# Import libraries\n",
    "import pandas as pd\n",
    "import numpy as np\n",
    "from collections import Counter\n",
    "\n",
    "import pydotplus \n",
    "from IPython.display import Image  \n",
    "\n",
    "from sklearn import tree\n",
    "import itertools\n",
    "import math\n",
    "\n",
    "from sklearn import preprocessing\n",
    "from sklearn.metrics import roc_curve\n",
    "from sklearn.metrics import average_precision_score, precision_recall_curve\n",
    "from sklearn.metrics import accuracy_score, f1_score, precision_score, recall_score, classification_report, confusion_matrix"
   ]
  },
  {
   "cell_type": "markdown",
   "metadata": {
    "heading_collapsed": true
   },
   "source": [
    "## Loading Datasets"
   ]
  },
  {
   "cell_type": "code",
   "execution_count": null,
   "metadata": {
    "hidden": true
   },
   "outputs": [],
   "source": [
    "# original dataset\n",
    "data = pd.read_csv('WA_Fn-UseC_-Telco-Customer-Churn.csv')\n",
    "# pre-processed\n",
    "data_processed = pd.read_csv('data_post_processed_binary._virginia.csv')\n",
    "# big-group\n",
    "data_biggroup = pd.read_csv('telco_final_17_05.csv')"
   ]
  },
  {
   "cell_type": "code",
   "execution_count": null,
   "metadata": {
    "hidden": true
   },
   "outputs": [],
   "source": [
    "data_processed.head()"
   ]
  },
  {
   "cell_type": "markdown",
   "metadata": {
    "heading_collapsed": true
   },
   "source": [
    "# Data Understanding"
   ]
  },
  {
   "cell_type": "markdown",
   "metadata": {
    "hidden": true
   },
   "source": [
    "**Correlation Matrix**"
   ]
  },
  {
   "cell_type": "code",
   "execution_count": null,
   "metadata": {
    "hidden": true
   },
   "outputs": [],
   "source": [
    "plt.figure(figsize =(20,20))\n",
    "Corr=data_biggroup[data_biggroup.columns].corr()\n",
    "sns.heatmap(Corr,annot=True)"
   ]
  },
  {
   "cell_type": "markdown",
   "metadata": {
    "hidden": true
   },
   "source": [
    "**Visualizing Attributes**"
   ]
  },
  {
   "cell_type": "raw",
   "metadata": {},
   "source": [
    "to_plot_cat = ['Gender', 'SeniorCitizen', 'Partner', 'Dependents', 'PhoneService', 'MultipleLines',\n",
    "               'InternetService', 'DSL', 'Fiber', 'PremiumServices', 'Contract', 'PaperlessBilling', 'PaymentMethod']\n",
    "label_list_custom = [['Short-Term', 'Long-Term'], ['No', 'Yes'], ['Check Methods', 'Automatic Methods']]\n",
    "\n",
    "plt.rcParams.update({'font.size': 13})\n",
    "\n",
    "fig = plt.figure(figsize=(20,35))\n",
    "_j = 0\n",
    "for index, plot in enumerate(to_plot_cat):\n",
    "    if index < 10:\n",
    "        gender_dist = data_biggroup[[plot, 'Churn']].groupby(data_biggroup[plot])\n",
    "        gdist_0 = list()\n",
    "        gdist_1 = list()\n",
    "        for i in range(len(gender_dist)):\n",
    "            _temp_len = list()\n",
    "            gender_df = gender_dist.get_group(i)\n",
    "            churn_dist = gender_df.groupby('Churn')\n",
    "            for j in range(len(churn_dist)):\n",
    "                _temp_len.append(len(churn_dist.get_group(j)))\n",
    "            gdist_0.append(_temp_len[0])\n",
    "            gdist_1.append(_temp_len[1])\n",
    "\n",
    "\n",
    "        plt.subplot(5, 3, index+1)\n",
    "        plt.bar(gender_dist.get_group(0).columns, gdist_0, color='#03719c', edgecolor='white', width=0.95)\n",
    "        plt.bar(gender_dist.get_group(0).columns, gdist_1, bottom=gdist_0, color='#ffad01', edgecolor='white', width=0.95)\n",
    "        plt.xticks((0,1),('No', 'Yes'))\n",
    "        plt.title(plot)\n",
    "        plt.legend(['Not Churning', 'Churning'])\n",
    "    else:\n",
    "        gender_dist = data_biggroup[[plot, 'Churn']].groupby(data_biggroup[plot])\n",
    "        gdist_0 = list()\n",
    "        gdist_1 = list()\n",
    "        for i in range(len(gender_dist)):\n",
    "            _temp_len = list()\n",
    "            gender_df = gender_dist.get_group(i)\n",
    "            churn_dist = gender_df.groupby('Churn')\n",
    "            for j in range(len(churn_dist)):\n",
    "                _temp_len.append(len(churn_dist.get_group(j)))\n",
    "            gdist_0.append(_temp_len[0])\n",
    "            gdist_1.append(_temp_len[1])\n",
    "        plt.subplot(5, 3, index+1)\n",
    "        plt.bar(gender_dist.get_group(0).columns, gdist_0, color='#03719c', edgecolor='white', width=0.95)\n",
    "        plt.bar(gender_dist.get_group(0).columns, gdist_1, bottom=gdist_0, color='#ffad01', edgecolor='white', width=0.95)\n",
    "        plt.xticks((0,1),label_list_custom[_j])\n",
    "        plt.title(plot)\n",
    "        plt.legend(['Not Churning', 'Churning'])\n",
    "        _j += 1"
   ]
  },
  {
   "cell_type": "code",
   "execution_count": null,
   "metadata": {
    "hidden": true,
    "scrolled": false
   },
   "outputs": [],
   "source": [
    "to_plot_cat = ['Gender', 'SeniorCitizen', 'Partner', 'Dependents', 'PhoneService', 'MultipleLines',\n",
    "               'InternetService', 'DSL', 'Fiber', 'PremiumServices', 'Contract', 'PaperlessBilling', 'PaymentMethod']\n",
    "label_list_custom = [['Short-Term', 'Long-Term'], ['No', 'Yes'], ['Check Methods', 'Automatic Methods']]\n",
    "\n",
    "plt.rcParams.update({'font.size': 13})\n",
    "\n",
    "fig = plt.figure(figsize=(20,35))\n",
    "_j = 0\n",
    "for index, plot in enumerate(to_plot_cat):\n",
    "    if index < 10:\n",
    "        gender_dist = data_biggroup[[plot, 'Churn']].groupby(plot)            \n",
    "        gdist_0 = list()\n",
    "        gdist_1 = list()       \n",
    "        _r = len(data_biggroup[plot].unique())\n",
    "        if _r < 2:\n",
    "            _fallback = data[data[plot] == 1]\n",
    "            if len(_fallback) == 0:\n",
    "                _fallback = data[data[plot] == 0]\n",
    "                _index_attr = _fallback.iloc[0][plot]\n",
    "                if _index_attr == 0:\n",
    "                    _group_fallback = _fallback[[plot, 'Churn']].groupby('Churn')\n",
    "                    gdist_0.append(len(_group_fallback.get_group(0)))\n",
    "                    gdist_1.append(len(_group_fallback.get_group(1)))\n",
    "                    gdist_0.append(0)\n",
    "                    gdist_1.append(0)\n",
    "                    # print(f'{plot} case omfg2')\n",
    "                    \n",
    "                    plt.subplot(5, 3, index+1)\n",
    "                    plt.title(plot)\n",
    "                    plt.bar(_group_fallback.get_group(0).columns, gdist_0, color='#03719c', edgecolor='white', width=0.95)\n",
    "                    plt.bar(_group_fallback.get_group(0).columns, gdist_1, bottom=gdist_0, color='#ffad01', edgecolor='white', width=0.95)\n",
    "                    plt.xticks((0,1),('No', 'Yes'))\n",
    "                    plt.legend(['Not Churning', 'Churning'])\n",
    "                    continue\n",
    "                else:\n",
    "                    _group_fallback = _fallback[[plot, 'Churn']].groupby('Churn')\n",
    "                    gdist_0.append(0)\n",
    "                    gdist_1.append(0)\n",
    "                    gdist_0.append(len(_group_fallback.get_group(0)))\n",
    "                    gdist_1.append(len(_group_fallback.get_group(1)))\n",
    "                    # print(f'{plot} case omfg2')\n",
    "                    \n",
    "                    plt.subplot(5, 3, index+1)\n",
    "                    plt.title(plot)\n",
    "                    plt.bar(_group_fallback.get_group(0).columns, gdist_0, color='#03719c', edgecolor='white', width=0.95)\n",
    "                    plt.bar(_group_fallback.get_group(0).columns, gdist_1, bottom=gdist_0, color='#ffad01', edgecolor='white', width=0.95)\n",
    "                    plt.xticks((0,1),('No', 'Yes'))\n",
    "                    plt.legend(['Not Churning', 'Churning'])\n",
    "                    continue\n",
    "            _group_fallback = _fallback[[plot, 'Churn']].groupby('Churn')\n",
    "            gdist_0.append(0)\n",
    "            gdist_0.append(_group_fallback.size()[0])\n",
    "            gdist_1.append(0)\n",
    "            gdist_1.append(_group_fallback.size()[1])\n",
    "            \n",
    "            # print(f'{plot} case 1')\n",
    "            plt.subplot(5, 3, index+1)\n",
    "            plt.title(plot)\n",
    "            plt.bar(_group_fallback.get_group(0).columns, gdist_0, color='#03719c', edgecolor='white', width=0.95)\n",
    "            plt.bar(_group_fallback.get_group(0).columns, gdist_1, bottom=gdist_0, color='#ffad01', edgecolor='white', width=0.95)\n",
    "            plt.xticks((0,1),('No', 'Yes'))\n",
    "            plt.legend(['Not Churning', 'Churning'])\n",
    "            continue\n",
    "            \n",
    "        for i in range(len(gender_dist)):\n",
    "            _temp_len = list()\n",
    "            gender_df = gender_dist.get_group(i)\n",
    "            churn_dist = gender_df.groupby('Churn')\n",
    "            \n",
    "            for j in range(len(churn_dist)):\n",
    "                # print(f'Appending length {len(churn_dist.get_group(j))} for attr {plot}')\n",
    "                _temp_len.append(len(churn_dist.get_group(j)))\n",
    "                # print(f'{plot} case 2')\n",
    "            gdist_0.append(_temp_len[0])\n",
    "            gdist_1.append(0)\n",
    "            if len(_temp_len) > 1:\n",
    "                gdist_1.pop()\n",
    "                gdist_1.append(_temp_len[1])\n",
    "                # print(f'{plot} case 3')\n",
    "\n",
    "        plt.subplot(5, 3, index+1)\n",
    "        plt.bar(gender_dist.get_group(0).columns, gdist_0, color='#03719c', edgecolor='white', width=0.95)\n",
    "        plt.bar(gender_dist.get_group(0).columns, gdist_1, bottom=gdist_0, color='#ffad01', edgecolor='white', width=0.95)\n",
    "        plt.xticks((0,1),('No', 'Yes'))\n",
    "        plt.title(plot)\n",
    "        plt.legend(['Not Churning', 'Churning'])\n",
    "    else:\n",
    "        gender_dist = data_biggroup[[plot, 'Churn']].groupby(data_biggroup[plot])\n",
    "        gdist_0 = list()\n",
    "        gdist_1 = list()\n",
    "        for i in range(len(gender_dist)):\n",
    "            _temp_len = list()\n",
    "            gender_df = gender_dist.get_group(i)\n",
    "            churn_dist = gender_df.groupby('Churn')\n",
    "            for j in range(len(churn_dist)):\n",
    "                _temp_len.append(len(churn_dist.get_group(j)))\n",
    "            gdist_0.append(_temp_len[0])\n",
    "            gdist_1.append(_temp_len[1])\n",
    "        plt.subplot(5, 3, index+1)\n",
    "        plt.bar(gender_dist.get_group(0).columns, gdist_0, color='#03719c', edgecolor='white', width=0.95)\n",
    "        plt.bar(gender_dist.get_group(0).columns, gdist_1, bottom=gdist_0, color='#ffad01', edgecolor='white', width=0.95)\n",
    "        plt.xticks((0,1),label_list_custom[_j])\n",
    "        plt.title(plot)\n",
    "        plt.legend(['Not Churning', 'Churning'])\n",
    "        _j += 1"
   ]
  },
  {
   "cell_type": "markdown",
   "metadata": {
    "hidden": true
   },
   "source": [
    "**Barplot for premium services grouped by Churning**"
   ]
  },
  {
   "cell_type": "code",
   "execution_count": null,
   "metadata": {
    "hidden": true
   },
   "outputs": [],
   "source": [
    "further_visual_cat = ['OnlineSecurityBinary' ,'OnlineBackupBinary', 'DeviceProtectionBinary', \n",
    "                      'TechSupportBinary', 'StreamingTvBinary', 'StreamingMoviesBinary']\n",
    "\n",
    "plt.figure(figsize=(20,15))\n",
    "# plt.suptitle('Deeper visualization of \\'Premium Services\\' by Churning', size=16)\n",
    "for index, plot in enumerate(further_visual_cat):\n",
    "    gender_dist = data_processed[[plot, 'Churn']].groupby(data_processed[plot])\n",
    "    gdist_0 = list()\n",
    "    gdist_1 = list()\n",
    "    for i in range(len(gender_dist)):\n",
    "        _temp_len = list()\n",
    "        gender_df = gender_dist.get_group(i)\n",
    "        churn_dist = gender_df.groupby('Churn')\n",
    "        for j in range(len(churn_dist)):\n",
    "            _temp_len.append(len(churn_dist.get_group(j)))\n",
    "        gdist_0.append(_temp_len[0])\n",
    "        gdist_1.append(_temp_len[1])\n",
    "        \n",
    "\n",
    "    plt.subplot(2, 3, index+1)\n",
    "    plt.bar(gender_dist.get_group(0).columns, gdist_0, color='#03719c', edgecolor='white', width=0.95)\n",
    "    plt.bar(gender_dist.get_group(0).columns, gdist_1, bottom=gdist_0, color='#ffad01', edgecolor='white', width=0.95)\n",
    "    plt.xticks((0,1), ('No', 'Yes'))\n",
    "    plt.title(plot)\n",
    "    plt.legend(['Not Churning', 'Churning'])"
   ]
  },
  {
   "cell_type": "markdown",
   "metadata": {
    "hidden": true
   },
   "source": [
    "**Barplot for premium services grouped by Connection Type**"
   ]
  },
  {
   "cell_type": "code",
   "execution_count": null,
   "metadata": {
    "hidden": true,
    "scrolled": false
   },
   "outputs": [],
   "source": [
    "further_visual_cat = ['OnlineSecurityBinary', 'OnlineBackupBinary','DeviceProtectionBinary', \n",
    "                      'TechSupportBinary', 'StreamingTvBinary','StreamingMoviesBinary' ]\n",
    "\n",
    "fig = plt.figure(figsize=(20,15))\n",
    "# fig.suptitle('Deeper visualization of \\'Premium Services\\' by connection type', size=16)\n",
    "for index, plot in enumerate(further_visual_cat):\n",
    "    gender_dist = data_processed[[plot, 'FiberBinary']].groupby(data_processed[plot])\n",
    "    gdist_0 = list()\n",
    "    gdist_1 = list()\n",
    "    for i in range(len(gender_dist)):\n",
    "        _temp_len = list()\n",
    "        gender_df = gender_dist.get_group(i)\n",
    "        churn_dist = gender_df.groupby('FiberBinary')\n",
    "        for j in range(len(churn_dist)):\n",
    "            _temp_len.append(len(churn_dist.get_group(j)))\n",
    "        gdist_0.append(_temp_len[0])\n",
    "        gdist_1.append(_temp_len[1])\n",
    "        \n",
    "\n",
    "    plt.subplot(2, 3, index+1)\n",
    "    plt.bar(gender_dist.get_group(0).columns, gdist_0, color='#03719c', edgecolor='white', width=0.95)\n",
    "    plt.bar(gender_dist.get_group(0).columns, gdist_1, bottom=gdist_0, color='#ffad01', edgecolor='white', width=0.95)\n",
    "    plt.xticks((0,1), ('No Service', 'Yes Service'))\n",
    "    plt.title(plot)\n",
    "    plt.legend(['DSL', 'Fiber'])"
   ]
  },
  {
   "cell_type": "markdown",
   "metadata": {
    "hidden": true
   },
   "source": [
    "**Hisogram Tenure, MonthlyCharges and TotalCharges**"
   ]
  },
  {
   "cell_type": "code",
   "execution_count": null,
   "metadata": {
    "hidden": true,
    "scrolled": false
   },
   "outputs": [],
   "source": [
    "data['new_churn'] = data_processed['Churn']\n",
    "data.loc[data['TotalCharges'] == ' ', ['TotalCharges']] = 0\n",
    "data['TotalCharges'].astype(float, inplace=True)\n",
    "\n",
    "to_group_3 = ['tenure', 'MonthlyCharges', 'TotalCharges']\n",
    "fig = plt.figure(figsize=(20, 15))\n",
    "# plt.suptitle('Tenure, MonthlyCharges and TotalCharges distributions')\n",
    "\n",
    "for index, plot in enumerate(to_group_3):\n",
    "    temp_grouped = data[['MonthlyCharges', 'tenure', 'new_churn', 'TotalCharges']].groupby(data['new_churn'])\n",
    "\n",
    "    tenure_no_churn = temp_grouped[plot].get_group(0).values.astype(float)\n",
    "    tenure_churn = temp_grouped[plot].get_group(1).values.astype(float)\n",
    "    \n",
    "    plt.subplot(2, 2, index+1)\n",
    "    plt.hist([tenure_no_churn, tenure_churn], 13, label=['Not Churning', 'Churning'], color=['#03719c', '#ffad01'])\n",
    "    plt.legend(loc='upper right')\n",
    "    plt.xlabel(plot)\n"
   ]
  },
  {
   "cell_type": "code",
   "execution_count": null,
   "metadata": {
    "hidden": true,
    "scrolled": false
   },
   "outputs": [],
   "source": [
    "data['new_churn'] = data_processed['Churn']\n",
    "data.loc[data['TotalCharges'] == ' ', ['TotalCharges']] = 0\n",
    "data['TotalCharges'].astype(float, inplace=True)\n",
    "\n",
    "to_group_4 = ['tenure', 'MonthlyCharges', 'TotalCharges','tenure', 'MonthlyCharges', 'TotalCharges']\n",
    "fig = plt.figure(figsize=(25, 15))\n",
    "# plt.suptitle('Tenure, MonthlyCharges and TotalCharges distributions wrt to normal and density values')\n",
    "\n",
    "for index, plot in enumerate(to_group_4):\n",
    "    temp_grouped = data[['MonthlyCharges', 'tenure', 'new_churn', 'TotalCharges']].groupby(data['new_churn'])\n",
    "    if index<=2:\n",
    "        tenure_no_churn = temp_grouped[plot].get_group(0).values.astype(float)\n",
    "        tenure_churn = temp_grouped[plot].get_group(1).values.astype(float)\n",
    "\n",
    "        plt.subplot(2, 3, index+1)\n",
    "        plt.hist([tenure_churn, tenure_no_churn], 13, label=['Churning', 'Not Churning'], color=['#ffad01', '#03719c'], stacked=True, rwidth=0.95)\n",
    "        plt.legend(loc='upper right')\n",
    "        plt.xlabel(plot)\n",
    "    else:\n",
    "        tenure_no_churn = temp_grouped[plot].get_group(0).values.astype(float)\n",
    "        tenure_churn = temp_grouped[plot].get_group(1).values.astype(float)\n",
    "\n",
    "        plt.subplot(2, 3, index+1)\n",
    "        sns.kdeplot(data[plot], color='blue', shade=True)\n",
    "        plt.hist([tenure_churn, tenure_no_churn], 13, label=['Churning', 'Not Churning'], color=['#ffad01', '#03719c'], density=True, rwidth=0.95)\n",
    "        plt.legend(loc='upper right')\n",
    "        plt.xlabel(plot)\n",
    "        "
   ]
  },
  {
   "cell_type": "markdown",
   "metadata": {
    "heading_collapsed": true
   },
   "source": [
    "# K-Means"
   ]
  },
  {
   "cell_type": "code",
   "execution_count": null,
   "metadata": {
    "hidden": true
   },
   "outputs": [],
   "source": [
    "from sklearn.cluster import KMeans\n",
    "from sklearn.metrics import silhouette_score"
   ]
  },
  {
   "cell_type": "code",
   "execution_count": null,
   "metadata": {
    "hidden": true
   },
   "outputs": [],
   "source": [
    "def run_kmean(X, max_k):\n",
    "    sse_list = list()\n",
    "    kmean_list = list()\n",
    "    labels = list()\n",
    "    max_k = max_k\n",
    "    for k in range(2, max_k + 1):\n",
    "        kmeans = KMeans(n_clusters=k, n_init=10, max_iter=100)\n",
    "        res = kmeans.fit_predict(X)\n",
    "        labels.append(res)\n",
    "        sse = kmeans.inertia_\n",
    "        sse_list.append(sse)\n",
    "        kmean_list.append(kmeans)\n",
    "    return sse_list, kmean_list, labels"
   ]
  },
  {
   "cell_type": "code",
   "execution_count": null,
   "metadata": {
    "hidden": true
   },
   "outputs": [],
   "source": [
    "def plot_clust_distributions(data, list_to_plot):\n",
    "    # plt.rcParams.update({'font.size': 13})\n",
    "    to_plot_cat = list_to_plot \n",
    "    fig = plt.figure(figsize=(20,35))\n",
    "    for index, plot in enumerate(to_plot_cat):\n",
    "        gender_dist = data[[plot, 'Churn']].groupby(plot)            \n",
    "        gdist_0 = list()\n",
    "        gdist_1 = list()\n",
    "        \n",
    "        _r = len(data[plot].unique())\n",
    "        if _r < 2:\n",
    "            _fallback = data[data[plot] == 1]\n",
    "            if len(_fallback) == 0:\n",
    "                _fallback = data[data[plot] == 0]\n",
    "                _index_attr = _fallback.iloc[0][plot]\n",
    "                if _index_attr == 0:\n",
    "                    _group_fallback = _fallback[[plot, 'Churn']].groupby('Churn')\n",
    "                    gdist_0.append(len(_group_fallback.get_group(0)))\n",
    "                    gdist_1.append(len(_group_fallback.get_group(1)))\n",
    "                    gdist_0.append(0)\n",
    "                    gdist_1.append(0)\n",
    "                    # print(f'{plot} case omfg2')\n",
    "                    \n",
    "                    plt.subplot(5, 3, index+1)\n",
    "                    plt.title(plot)\n",
    "                    plt.bar(_group_fallback.get_group(0).columns, gdist_0, color='#03719c', edgecolor='white', width=0.95)\n",
    "                    plt.bar(_group_fallback.get_group(0).columns, gdist_1, bottom=gdist_0, color='#ffad01', edgecolor='white', width=0.95)\n",
    "                    plt.xticks((0,1),('No', 'Yes'))\n",
    "                    plt.legend(['Not Churning', 'Churning'])\n",
    "                    continue\n",
    "                else:\n",
    "                    _group_fallback = _fallback[[plot, 'Churn']].groupby('Churn')\n",
    "                    gdist_0.append(0)\n",
    "                    gdist_1.append(0)\n",
    "                    gdist_0.append(len(_group_fallback.get_group(0)))\n",
    "                    gdist_1.append(len(_group_fallback.get_group(1)))\n",
    "                    # print(f'{plot} case omfg2')\n",
    "                    \n",
    "                    plt.subplot(5, 3, index+1)\n",
    "                    plt.title(plot)\n",
    "                    plt.bar(_group_fallback.get_group(0).columns, gdist_0, color='#03719c', edgecolor='white', width=0.95)\n",
    "                    plt.bar(_group_fallback.get_group(0).columns, gdist_1, bottom=gdist_0, color='#ffad01', edgecolor='white', width=0.95)\n",
    "                    plt.xticks((0,1),('No', 'Yes'))\n",
    "                    plt.legend(['Not Churning', 'Churning'])\n",
    "                    continue\n",
    "            _group_fallback = _fallback[[plot, 'Churn']].groupby('Churn')\n",
    "            gdist_0.append(0)\n",
    "            gdist_0.append(_group_fallback.size()[0])\n",
    "            gdist_1.append(0)\n",
    "            gdist_1.append(_group_fallback.size()[1])\n",
    "            \n",
    "            # print(f'{plot} case 1')\n",
    "            plt.subplot(5, 3, index+1)\n",
    "            plt.title(plot)\n",
    "            plt.bar(_group_fallback.get_group(0).columns, gdist_0, color='#03719c', edgecolor='white', width=0.95)\n",
    "            plt.bar(_group_fallback.get_group(0).columns, gdist_1, bottom=gdist_0, color='#ffad01', edgecolor='white', width=0.95)\n",
    "            plt.xticks((0,1),('No', 'Yes'))\n",
    "            plt.legend(['Not Churning', 'Churning'])\n",
    "            continue\n",
    "            \n",
    "        for i in range(len(gender_dist)):\n",
    "            _temp_len = list()\n",
    "            gender_df = gender_dist.get_group(i)\n",
    "            churn_dist = gender_df.groupby('Churn')\n",
    "            \n",
    "            for j in range(len(churn_dist)):\n",
    "                # print(f'Appending length {len(churn_dist.get_group(j))} for attr {plot}')\n",
    "                _temp_len.append(len(churn_dist.get_group(j)))\n",
    "                # print(f'{plot} case 2')\n",
    "            gdist_0.append(_temp_len[0])\n",
    "            gdist_1.append(0)\n",
    "            if len(_temp_len) > 1:\n",
    "                gdist_1.pop()\n",
    "                gdist_1.append(_temp_len[1])\n",
    "                # print(f'{plot} case 3')\n",
    "\n",
    "        plt.subplot(5, 3, index+1)\n",
    "        plt.bar(gender_dist.get_group(0).columns, gdist_0, color='#03719c', edgecolor='white', width=0.95)\n",
    "        plt.bar(gender_dist.get_group(0).columns, gdist_1, bottom=gdist_0, color='#ffad01', edgecolor='white', width=0.95)\n",
    "        plt.xticks((0,1),('No', 'Yes'))\n",
    "        plt.title(plot)\n",
    "        plt.legend(['Not Churning', 'Churning'])"
   ]
  },
  {
   "cell_type": "code",
   "execution_count": null,
   "metadata": {
    "hidden": true
   },
   "outputs": [],
   "source": [
    "def print_cluster_describe_cat(cluster):\n",
    "       return(cluster[['Gender', 'SeniorCitizen', 'Partner', 'Dependents', 'PhoneService', \n",
    "                  'MultipleLines', 'InternetService', 'DSL', 'Fiber', 'PremiumServices',\n",
    "                  'Contract', 'PaperlessBilling', 'PaymentMethod', 'Churn']].astype('str').describe())\n",
    "def print_cluster_describe_cont(cluster):\n",
    "        return(cluster[['Tenure_original', 'MonthlyCharges_original']].describe())"
   ]
  },
  {
   "cell_type": "code",
   "execution_count": null,
   "metadata": {
    "hidden": true
   },
   "outputs": [],
   "source": [
    "def print_single_clust_dist(cluster):\n",
    "    fig = plt.figure(figsize=(20,35))\n",
    "    index = 0\n",
    "    for attr in cluster.columns:\n",
    "        if attr not in ['Tenure', 'MonthlyCharges', 'Tenure_original', 'MonthlyCharges_original', 'kmean_label']:\n",
    "            print(attr)\n",
    "            print(Counter(cluster[attr]))\n",
    "            c = Counter(cluster[attr])\n",
    "            plt.subplot(5, 4, index+1)\n",
    "            plt.bar((0,1), c.values(), color= ['#03719c', '#ffad01'])\n",
    "            plt.title(attr)\n",
    "            plt.xticks((0,1),('No', 'Yes'))\n",
    "            index += 1"
   ]
  },
  {
   "cell_type": "code",
   "execution_count": null,
   "metadata": {
    "hidden": true
   },
   "outputs": [],
   "source": [
    "def plot_cont_clust(cluster, index_cluster):\n",
    "    to_group_3 = ['Tenure_original', 'MonthlyCharges_original']\n",
    "    fig = plt.figure(figsize=(20, 15))\n",
    "    plt.suptitle('Cluster ' + str(index_cluster))\n",
    "    # plt.suptitle('Tenure, MonthlyCharges and TotalCharges distributions')\n",
    "\n",
    "    for index, plot in enumerate(to_group_3):\n",
    "        temp_grouped = cluster[['MonthlyCharges_original', 'Tenure_original', 'Churn']].groupby(cluster['Churn'])\n",
    "\n",
    "        tenure_no_churn = temp_grouped[plot].get_group(0).values.astype(float)\n",
    "        tenure_churn = temp_grouped[plot].get_group(1).values.astype(float)\n",
    "\n",
    "        plt.subplot(2, 2, index+1)\n",
    "        plt.hist([tenure_no_churn, tenure_churn], 13, label=['Not Churning', 'Churning'], color=['#03719c', '#ffad01'])\n",
    "        plt.legend(loc='upper right')\n",
    "        plt.xlabel(plot)"
   ]
  },
  {
   "cell_type": "code",
   "execution_count": null,
   "metadata": {
    "hidden": true
   },
   "outputs": [],
   "source": [
    "def get_cluster_compisition(kmeans, data):\n",
    "    hist, bins = np.histogram(kmeans.labels_, bins=range(0, len(set(kmeans.labels_)) + 1))\n",
    "    sizes = dict(zip(bins, hist))\n",
    "    for id_cluster, size in sizes.items():\n",
    "        print('Cluster %d: %d (%.2f)' % (id_cluster, size, size/len(data))+'')\n",
    "        \n",
    "def evaluate_cluster(k, labels, data):\n",
    "    temp_df = data.copy()\n",
    "    temp_df['kmeans_label'] = labels\n",
    "    _matrix = np.zeros((3,2))\n",
    "    temp_df2 = pd.DataFrame(_matrix)\n",
    "    for k in range(k):\n",
    "        _temp = temp_df[temp_df['kmeans_label'] == k]['Churn'].values\n",
    "        _r = Counter(_temp)\n",
    "        print(f'Cluster {k} composition wrt to target {_r}')\n",
    "        print(f'ChurningRatio: {round(_r[1]/(_r[0]+_r[1])*100, 4)}')"
   ]
  },
  {
   "cell_type": "code",
   "execution_count": null,
   "metadata": {
    "hidden": true,
    "scrolled": false
   },
   "outputs": [],
   "source": [
    "df_x_cluster = data[['tenure', 'MonthlyCharges', 'TotalCharges']]\n",
    "df_x_cluster['Tenure'] = df_x_cluster['tenure']\n",
    "df_x_cluster.drop(columns=['tenure'], inplace=True)\n",
    "\n",
    "df_x_cluster[df_x_cluster['TotalCharges'] == ' '] = 0"
   ]
  },
  {
   "cell_type": "code",
   "execution_count": null,
   "metadata": {
    "hidden": true
   },
   "outputs": [],
   "source": [
    "from sklearn import preprocessing\n",
    "\n",
    "def norm_attr(data, attr):\n",
    "    min_max_scaler = preprocessing.MinMaxScaler()\n",
    "    _to_norm = data[attr].values\n",
    "    x_scaled = min_max_scaler.fit_transform(_to_norm)\n",
    "    data[attr] = x_scaled\n",
    "\n",
    "norm_attr(df_x_cluster, ['TotalCharges'])\n",
    "norm_attr(df_x_cluster, ['Tenure'])\n",
    "norm_attr(df_x_cluster, ['MonthlyCharges'])"
   ]
  },
  {
   "cell_type": "code",
   "execution_count": null,
   "metadata": {
    "hidden": true
   },
   "outputs": [],
   "source": [
    "df_x_cluster = df_x_cluster[['Tenure', 'MonthlyCharges', 'TotalCharges']]"
   ]
  },
  {
   "cell_type": "code",
   "execution_count": null,
   "metadata": {
    "hidden": true
   },
   "outputs": [],
   "source": [
    "x_cluster = df_x_cluster.values"
   ]
  },
  {
   "cell_type": "code",
   "execution_count": null,
   "metadata": {
    "hidden": true
   },
   "outputs": [],
   "source": [
    "x_cluster[0]"
   ]
  },
  {
   "cell_type": "code",
   "execution_count": null,
   "metadata": {
    "hidden": true
   },
   "outputs": [],
   "source": [
    "# Search for best k\n",
    "# sse_list, kmean_list, labels = run_kmean(x_cluster, 15)\n",
    "\n",
    "silhouette_scorelist = list()\n",
    "for i, km in enumerate(kmean_list):\n",
    "    silhouette_scorelist.append(silhouette_score(x_cluster, km.labels_))\n",
    "\n",
    "plt.figure(figsize=(20,5))\n",
    "plt.subplot(1,2,1)\n",
    "plt.xlabel('K-value')\n",
    "plt.ylabel('SSE')\n",
    "plt.plot(range(2, len(sse_list) + 2), sse_list)\n",
    "\n",
    "plt.subplot(1,2,2)\n",
    "plt.xlabel('K-value')\n",
    "plt.ylabel('Silhouette Score')\n",
    "plt.plot(range(1, len(silhouette_scorelist)+1), silhouette_scorelist)"
   ]
  },
  {
   "cell_type": "code",
   "execution_count": null,
   "metadata": {
    "hidden": true
   },
   "outputs": [],
   "source": [
    "silhouette_scorelist"
   ]
  },
  {
   "cell_type": "code",
   "execution_count": null,
   "metadata": {
    "hidden": true
   },
   "outputs": [],
   "source": [
    "kmeans = KMeans(n_clusters=5, n_init=10, max_iter=100)\n",
    "labels = kmeans.fit_predict(x_cluster)\n",
    "silhouette_score(x_cluster, labels)"
   ]
  },
  {
   "cell_type": "code",
   "execution_count": null,
   "metadata": {
    "hidden": true
   },
   "outputs": [],
   "source": [
    "get_cluster_compisition(kmeans, x_cluster)\n",
    "evaluate_cluster(5, labels, data_biggroup)"
   ]
  },
  {
   "cell_type": "code",
   "execution_count": null,
   "metadata": {
    "hidden": true
   },
   "outputs": [],
   "source": [
    "from mpl_toolkits.mplot3d import Axes3D\n",
    "\n",
    "data_plotclust = data_biggroup.copy()\n",
    "data_plotclust['kmean_label'] = labels\n",
    "data_plotclust['Tenure_original'] = data['tenure']\n",
    "data_plotclust['MonthlyCharges_original'] = data['MonthlyCharges']\n",
    "\n",
    "groups_kmeans = data_plotclust.groupby(data_plotclust['kmean_label'])\n",
    "\n",
    "# Plot\n",
    "fig, ax = plt.subplots(figsize=(15,10))\n",
    "ax = Axes3D(fig)\n",
    "ax.margins(0.02) \n",
    "for name, group in groups_kmeans:\n",
    "    name = 'Cluster ' +str(name)\n",
    "    ax.scatter(group['Tenure_original'],  group['MonthlyCharges_original'],group['Churn'],  marker='o', s=20, label=name)\n",
    "ax.legend()\n",
    "ax.set_xlabel('Tenure')\n",
    "ax.set_ylabel('Monthly Charges')\n",
    "ax.set_zlabel('Churn')\n",
    "\n",
    "plt.show()"
   ]
  },
  {
   "cell_type": "code",
   "execution_count": null,
   "metadata": {
    "hidden": true,
    "scrolled": false
   },
   "outputs": [],
   "source": [
    "kmenas_cluster_0 = groups_kmeans.get_group(0) \n",
    "plot_clust_distributions(kmenas_cluster_0, ['Partner', 'Dependents', 'PhoneService', 'MultipleLines', 'InternetService', 'DSL', \n",
    "                               'Fiber', 'PremiumServices','Contract', 'PaperlessBilling', \n",
    "                               'PaymentMethod'])"
   ]
  },
  {
   "cell_type": "code",
   "execution_count": null,
   "metadata": {
    "hidden": true
   },
   "outputs": [],
   "source": [
    "print_cluster_describe_cat(kmenas_cluster_0)"
   ]
  },
  {
   "cell_type": "code",
   "execution_count": null,
   "metadata": {
    "hidden": true
   },
   "outputs": [],
   "source": [
    "print_cluster_describe_cont(kmenas_cluster_0)"
   ]
  },
  {
   "cell_type": "code",
   "execution_count": null,
   "metadata": {
    "hidden": true
   },
   "outputs": [],
   "source": [
    "# NO PhoneService nor PremiumServices\n",
    "kmenas_cluster_1 = groups_kmeans.get_group(1) \n",
    "plot_clust_distributions(kmenas_cluster_1, ['Partner', 'Dependents', 'PhoneService', 'MultipleLines', 'InternetService', 'DSL', \n",
    "                               'Fiber', 'PremiumServices', 'Contract', 'PaperlessBilling', 'PaymentMethod'])"
   ]
  },
  {
   "cell_type": "code",
   "execution_count": null,
   "metadata": {
    "hidden": true
   },
   "outputs": [],
   "source": [
    "print_cluster_describe_cat(kmenas_cluster_1)"
   ]
  },
  {
   "cell_type": "code",
   "execution_count": null,
   "metadata": {
    "hidden": true
   },
   "outputs": [],
   "source": [
    "print_cluster_describe_cont(kmenas_cluster_1)"
   ]
  },
  {
   "cell_type": "code",
   "execution_count": null,
   "metadata": {
    "hidden": true
   },
   "outputs": [],
   "source": [
    "kmenas_cluster_2 = groups_kmeans.get_group(2) \n",
    "plot_clust_distributions(kmenas_cluster_2, ['Partner', 'Dependents', 'PhoneService', 'MultipleLines', 'InternetService', 'DSL', \n",
    "                               'Fiber', 'PremiumServices', 'Contract', 'PaperlessBilling', \n",
    "                               'PaymentMethod'])"
   ]
  },
  {
   "cell_type": "code",
   "execution_count": null,
   "metadata": {
    "hidden": true,
    "scrolled": true
   },
   "outputs": [],
   "source": [
    "print_cluster_describe_cat(kmenas_cluster_2)"
   ]
  },
  {
   "cell_type": "code",
   "execution_count": null,
   "metadata": {
    "hidden": true,
    "scrolled": true
   },
   "outputs": [],
   "source": [
    "print_cluster_describe_cont(kmenas_cluster_2)"
   ]
  },
  {
   "cell_type": "code",
   "execution_count": null,
   "metadata": {
    "hidden": true,
    "scrolled": false
   },
   "outputs": [],
   "source": [
    "kmenas_cluster_3 = groups_kmeans.get_group(3) \n",
    "plot_clust_distributions(kmenas_cluster_3, ['Partner', 'Dependents', 'PhoneService', 'MultipleLines', 'InternetService', 'DSL', \n",
    "                               'Fiber','PremiumServices', 'Contract', 'PaperlessBilling', \n",
    "                               'PaymentMethod'])"
   ]
  },
  {
   "cell_type": "code",
   "execution_count": null,
   "metadata": {
    "hidden": true
   },
   "outputs": [],
   "source": [
    "print_cluster_describe_cat(kmenas_cluster_3)"
   ]
  },
  {
   "cell_type": "code",
   "execution_count": null,
   "metadata": {
    "hidden": true
   },
   "outputs": [],
   "source": [
    "print_cluster_describe_cont(kmenas_cluster_3)"
   ]
  },
  {
   "cell_type": "code",
   "execution_count": null,
   "metadata": {
    "hidden": true,
    "scrolled": false
   },
   "outputs": [],
   "source": [
    "kmenas_cluster_4 = groups_kmeans.get_group(4) \n",
    "plot_clust_distributions(kmenas_cluster_4, ['Partner', 'Dependents', 'PhoneService', 'MultipleLines', 'InternetService', 'DSL', \n",
    "                               'Fiber', 'PremiumServices', 'Contract', 'PaperlessBilling', 'PaymentMethod'])"
   ]
  },
  {
   "cell_type": "code",
   "execution_count": null,
   "metadata": {
    "hidden": true
   },
   "outputs": [],
   "source": [
    "print_cluster_describe_cat(kmenas_cluster_4)"
   ]
  },
  {
   "cell_type": "code",
   "execution_count": null,
   "metadata": {
    "hidden": true
   },
   "outputs": [],
   "source": [
    "print_cluster_describe_cont(kmenas_cluster_4)"
   ]
  },
  {
   "cell_type": "raw",
   "metadata": {},
   "source": [
    "kmenas_cluster_5 = groups_kmeans.get_group(5) \n",
    "plot_clust_distributions(kmenas_cluster_5, ['Partner', 'Dependents', 'PhoneService', 'MultipleLines', 'InternetService', 'DSL', \n",
    "                               'Fiber', 'PremiumServices','Contract', 'PaperlessBilling', \n",
    "                               'PaymentMethod'])"
   ]
  },
  {
   "cell_type": "raw",
   "metadata": {},
   "source": [
    "print_cluster_describe_cat(kmenas_cluster_5)"
   ]
  },
  {
   "cell_type": "raw",
   "metadata": {},
   "source": [
    "print_cluster_describe_cont(kmenas_cluster_5)"
   ]
  },
  {
   "cell_type": "raw",
   "metadata": {},
   "source": [
    "kmenas_cluster_6 = groups_kmeans.get_group(6) \n",
    "plot_clust_distributions(kmenas_cluster_6, ['Partner', 'Dependents', 'PhoneService', 'MultipleLines', 'InternetService', 'DSL', \n",
    "                               'Fiber', 'PremiumServices','Contract', 'PaperlessBilling', \n",
    "                               'PaymentMethod'])"
   ]
  },
  {
   "cell_type": "raw",
   "metadata": {},
   "source": [
    "print_cluster_describe_cat(kmenas_cluster_6)"
   ]
  },
  {
   "cell_type": "raw",
   "metadata": {},
   "source": [
    "print_cluster_describe_cont(kmenas_cluster_6)"
   ]
  },
  {
   "cell_type": "code",
   "execution_count": null,
   "metadata": {
    "hidden": true
   },
   "outputs": [],
   "source": [
    "plot_cont_clust(kmenas_cluster_0, 0)"
   ]
  },
  {
   "cell_type": "code",
   "execution_count": null,
   "metadata": {
    "hidden": true
   },
   "outputs": [],
   "source": [
    "plot_cont_clust(kmenas_cluster_1, 1)"
   ]
  },
  {
   "cell_type": "code",
   "execution_count": null,
   "metadata": {
    "hidden": true
   },
   "outputs": [],
   "source": [
    "plot_cont_clust(kmenas_cluster_2, 2)"
   ]
  },
  {
   "cell_type": "code",
   "execution_count": null,
   "metadata": {
    "hidden": true
   },
   "outputs": [],
   "source": [
    "plot_cont_clust(kmenas_cluster_3, 3)"
   ]
  },
  {
   "cell_type": "code",
   "execution_count": null,
   "metadata": {
    "hidden": true,
    "scrolled": false
   },
   "outputs": [],
   "source": [
    "plot_cont_clust(kmenas_cluster_4, 4)"
   ]
  },
  {
   "cell_type": "raw",
   "metadata": {},
   "source": [
    "plot_cont_clust(kmenas_cluster_5, 5)"
   ]
  },
  {
   "cell_type": "raw",
   "metadata": {},
   "source": [
    "plot_cont_clust(kmenas_cluster_6, 6)"
   ]
  },
  {
   "cell_type": "markdown",
   "metadata": {
    "heading_collapsed": true
   },
   "source": [
    "# DBscan"
   ]
  },
  {
   "cell_type": "code",
   "execution_count": null,
   "metadata": {
    "hidden": true
   },
   "outputs": [],
   "source": [
    "from sklearn.cluster import DBSCAN"
   ]
  },
  {
   "cell_type": "code",
   "execution_count": null,
   "metadata": {
    "hidden": true,
    "scrolled": true
   },
   "outputs": [],
   "source": [
    "data_postdbscan = data_plotclust.copy()"
   ]
  },
  {
   "cell_type": "raw",
   "metadata": {},
   "source": [
    "from sklearn import preprocessing\n",
    "\n",
    "def norm_attr(data, attr):\n",
    "    min_max_scaler = preprocessing.MinMaxScaler()\n",
    "    _to_norm = data[attr].values\n",
    "    x_scaled = min_max_scaler.fit_transform(_to_norm)\n",
    "    data[attr] = x_scaled\n",
    "\n",
    "# norm_attr(data_normalized, ['MonthlyCharges'])\n",
    "# norm_attr(data_normalized, ['TotalCharges'])\n",
    "\n",
    "_temp_df_norm = data_plotclust[['Tenure_original', 'MonthlyCharges_original']]\n",
    "norm_attr(_temp_df_norm, ['Tenure_original'])\n",
    "norm_attr(_temp_df_norm, ['MonthlyCharges_original'])"
   ]
  },
  {
   "cell_type": "code",
   "execution_count": null,
   "metadata": {
    "hidden": true
   },
   "outputs": [],
   "source": [
    "# Normalizing continuous values\n",
    "x_cluster_DBSCAN = df_x_cluster.values"
   ]
  },
  {
   "cell_type": "code",
   "execution_count": null,
   "metadata": {
    "hidden": true
   },
   "outputs": [],
   "source": [
    "# manual search best eps could be 0.02 and 5 min sample\n",
    "\n",
    "dbscan = DBSCAN(eps=0.052, min_samples=80, metric='euclidean')\n",
    "dbscan.fit(x_cluster_DBSCAN)\n",
    "dbscan_label = dbscan.fit_predict(x_cluster_DBSCAN)\n",
    "Counter(dbscan_label)"
   ]
  },
  {
   "cell_type": "code",
   "execution_count": null,
   "metadata": {
    "hidden": true
   },
   "outputs": [],
   "source": [
    "def run_search_dbscan(eps_list):\n",
    "    noise_value = list()\n",
    "    cluster_number = list()\n",
    "    label_list = list()\n",
    "    for eps in eps_list:\n",
    "        dbscan = DBSCAN(eps=eps, min_samples=80, metric='euclidean')\n",
    "        dbscan.fit(x_cluster_DBSCAN)\n",
    "        dbscan_label = dbscan.fit_predict(x_cluster_DBSCAN)\n",
    "        c = Counter(dbscan_label)\n",
    "        noise_value.append(c[-1])\n",
    "        cluster_number.append(len(c)-1)\n",
    "        label_list.append(dbscan_label)\n",
    "    return noise_value, cluster_number, label_list"
   ]
  },
  {
   "cell_type": "code",
   "execution_count": null,
   "metadata": {
    "hidden": true
   },
   "outputs": [],
   "source": [
    "eps_list = np.linspace(0.001,0.2,100).tolist()\n",
    "noise_value_dbscan, cluster_number_dbscan, label_list_dbscan = run_search_dbscan(eps_list)"
   ]
  },
  {
   "cell_type": "code",
   "execution_count": null,
   "metadata": {
    "hidden": true
   },
   "outputs": [],
   "source": [
    "plt.figure(figsize=(20,5))\n",
    "plt.subplot(1,2,1)\n",
    "plt.xlabel('Eps')\n",
    "plt.ylabel('Noise Amount')\n",
    "plt.plot(eps_list, noise_value_dbscan)\n",
    "\n",
    "plt.subplot(1,2,2)\n",
    "plt.xlabel('Eps')\n",
    "plt.ylabel('Clusters')\n",
    "plt.plot(eps_list, cluster_number_dbscan)"
   ]
  },
  {
   "cell_type": "code",
   "execution_count": null,
   "metadata": {
    "hidden": true
   },
   "outputs": [],
   "source": [
    "eps_list[28]\n",
    "cluster_number_dbscan[28]\n",
    "noise_value_dbscan[28]\n",
    "label_list_dbscan[28]\n",
    "Counter(label_list_dbscan[28])"
   ]
  },
  {
   "cell_type": "code",
   "execution_count": null,
   "metadata": {
    "hidden": true
   },
   "outputs": [],
   "source": [
    "# Chose cluster 28 - eps 0.05728282828282828\n",
    "data_postdbscan['dbscan_label'] = label_list_dbscan[28]\n",
    "data_postdbscan.head()"
   ]
  },
  {
   "cell_type": "raw",
   "metadata": {},
   "source": [
    "#DISABLED CODE --> was exporting data to Gephi\n",
    "\n",
    "test = data_postdbscan.copy()\n",
    "test['Id'] = data_postdbscan.index\n",
    "test = test[test['dbscan_label'] != -1]\n",
    "test_group = test.groupby('kmean_label')\n",
    "\n",
    "df_edge = pd.DataFrame(columns=['source', 'target'])\n",
    "temp_test_group0 = test_group.get_group(0)\n",
    "# cluster 1 in kmena is 100% noise in dbscan\n",
    "temp_test_group1 = test_group.get_group(1)\n",
    "temp_test_group2 = test_group.get_group(2)\n",
    "temp_test_group3 = test_group.get_group(3)\n",
    "# cluster 4 in kmeans is 100% noise in dbscan\n",
    "temp_test_group4 = test_group.get_group(4)\n",
    "\n",
    "w = 0\n",
    "for j, temp_test_group in enumerate([temp_test_group0, temp_test_group1, temp_test_group2, temp_test_group3,\n",
    "                                     temp_test_group4]):\n",
    "    for i in range(len(temp_test_group)):\n",
    "        df_edge.loc[w] = [temp_test_group.iloc[i]['Id'], str(j) + 'clusterKmean']\n",
    "        w += 1\n",
    "        \n",
    "df_edge['source'] = pd.to_numeric(df_edge['source'], downcast='integer')\n",
    "df_edge.to_csv('edge_FIANL21_05_nonoise2.csv', index=False)\n",
    "test.to_csv('node_FINAL21_05_nonoise2.csv', index=False)"
   ]
  },
  {
   "cell_type": "code",
   "execution_count": null,
   "metadata": {
    "hidden": true
   },
   "outputs": [],
   "source": [
    "groups_dbscan = data_postdbscan.groupby(data_postdbscan['dbscan_label'])\n",
    "\n",
    "# Plot\n",
    "fig, ax = plt.subplots(figsize=(20,15))\n",
    "ax = Axes3D(fig)\n",
    "ax.margins(0.02)\n",
    "marker_list = ['o', 'v','D', '^', '<', '>', '1', '2', '3','4','s']\n",
    "i = 0\n",
    "for name, group in groups_dbscan:\n",
    "    if i == 0:\n",
    "        i += 1 # avoid plotting 'noise' points\n",
    "        continue\n",
    "    name = 'Cluster ' +str(name)\n",
    "    ax.scatter(group['Tenure_original'], group['MonthlyCharges_original'], group['Churn'], marker=marker_list[0], s=25, label=name)\n",
    "    i += 1\n",
    "ax.legend()\n",
    "ax.set_xlabel('Tenure')\n",
    "ax.set_ylabel('Monthly Charges')\n",
    "ax.set_zlabel('Churn')\n",
    "\n",
    "plt.show()\n",
    "del(i)"
   ]
  },
  {
   "cell_type": "code",
   "execution_count": null,
   "metadata": {
    "hidden": true
   },
   "outputs": [],
   "source": [
    "dbscan_cluster_0 = groups_dbscan.get_group(0) \n",
    "plot_clust_distributions(dbscan_cluster_0, ['Partner', 'Dependents', 'PhoneService', 'MultipleLines', 'InternetService', 'DSL', \n",
    "                               'Fiber', 'PremiumServices','Contract', 'PaperlessBilling', \n",
    "                               'PaymentMethod'])"
   ]
  },
  {
   "cell_type": "code",
   "execution_count": null,
   "metadata": {
    "hidden": true
   },
   "outputs": [],
   "source": [
    "print_cluster_describe_cat(dbscan_cluster_0)"
   ]
  },
  {
   "cell_type": "code",
   "execution_count": null,
   "metadata": {
    "hidden": true,
    "scrolled": true
   },
   "outputs": [],
   "source": [
    "print_cluster_describe_cont(dbscan_cluster_0)"
   ]
  },
  {
   "cell_type": "code",
   "execution_count": null,
   "metadata": {
    "hidden": true
   },
   "outputs": [],
   "source": [
    "Counter(dbscan_cluster_4['Churn'])"
   ]
  },
  {
   "cell_type": "code",
   "execution_count": null,
   "metadata": {
    "hidden": true,
    "scrolled": false
   },
   "outputs": [],
   "source": [
    "dbscan_cluster_1 = groups_dbscan.get_group(1) \n",
    "plot_clust_distributions(dbscan_cluster_1, ['Partner', 'Dependents', 'PhoneService', 'MultipleLines', 'InternetService', 'DSL', \n",
    "                               'Fiber', 'PremiumServices','Contract', 'PaperlessBilling', \n",
    "                               'PaymentMethod'])"
   ]
  },
  {
   "cell_type": "code",
   "execution_count": null,
   "metadata": {
    "hidden": true
   },
   "outputs": [],
   "source": [
    "print_cluster_describe_cat(dbscan_cluster_1)"
   ]
  },
  {
   "cell_type": "code",
   "execution_count": null,
   "metadata": {
    "hidden": true
   },
   "outputs": [],
   "source": [
    "print_cluster_describe_cont(dbscan_cluster_1)"
   ]
  },
  {
   "cell_type": "code",
   "execution_count": null,
   "metadata": {
    "hidden": true
   },
   "outputs": [],
   "source": [
    "dbscan_cluster_2 = groups_dbscan.get_group(2) \n",
    "plot_clust_distributions(dbscan_cluster_2, ['Partner', 'Dependents', 'PhoneService', 'MultipleLines', 'InternetService', 'DSL', \n",
    "                               'Fiber', 'PremiumServices','Contract', 'PaperlessBilling', \n",
    "                               'PaymentMethod'])"
   ]
  },
  {
   "cell_type": "code",
   "execution_count": null,
   "metadata": {
    "hidden": true
   },
   "outputs": [],
   "source": [
    "print_cluster_describe_cat(dbscan_cluster_2)"
   ]
  },
  {
   "cell_type": "code",
   "execution_count": null,
   "metadata": {
    "hidden": true
   },
   "outputs": [],
   "source": [
    "print_cluster_describe_cont(dbscan_cluster_2)"
   ]
  },
  {
   "cell_type": "code",
   "execution_count": null,
   "metadata": {
    "hidden": true
   },
   "outputs": [],
   "source": [
    "dbscan_cluster_3 = groups_dbscan.get_group(3) \n",
    "plot_clust_distributions(dbscan_cluster_3, ['Partner', 'Dependents', 'PhoneService', 'MultipleLines', 'InternetService', 'DSL', \n",
    "                               'Fiber', 'PremiumServices','Contract', 'PaperlessBilling', \n",
    "                               'PaymentMethod'])"
   ]
  },
  {
   "cell_type": "code",
   "execution_count": null,
   "metadata": {
    "hidden": true
   },
   "outputs": [],
   "source": [
    "print_cluster_describe_cat(dbscan_cluster_3)"
   ]
  },
  {
   "cell_type": "code",
   "execution_count": null,
   "metadata": {
    "hidden": true
   },
   "outputs": [],
   "source": [
    "print_cluster_describe_cont(dbscan_cluster_3)"
   ]
  },
  {
   "cell_type": "code",
   "execution_count": null,
   "metadata": {
    "hidden": true
   },
   "outputs": [],
   "source": [
    "dbscan_cluster_4 = groups_dbscan.get_group(4) \n",
    "plot_clust_distributions(dbscan_cluster_4, ['Partner', 'Dependents', 'PhoneService', 'MultipleLines', 'InternetService', 'DSL', \n",
    "                               'Fiber', 'PremiumServices','Contract', 'PaperlessBilling', \n",
    "                               'PaymentMethod'])"
   ]
  },
  {
   "cell_type": "code",
   "execution_count": null,
   "metadata": {
    "hidden": true
   },
   "outputs": [],
   "source": [
    "print_cluster_describe_cat(dbscan_cluster_4)"
   ]
  },
  {
   "cell_type": "code",
   "execution_count": null,
   "metadata": {
    "hidden": true
   },
   "outputs": [],
   "source": [
    "print_cluster_describe_cont(dbscan_cluster_4)"
   ]
  },
  {
   "cell_type": "code",
   "execution_count": null,
   "metadata": {
    "hidden": true
   },
   "outputs": [],
   "source": [
    "# data_plotclust.to_csv('datapostclust_21_05.csv', index=False)"
   ]
  },
  {
   "cell_type": "code",
   "execution_count": null,
   "metadata": {
    "hidden": true
   },
   "outputs": [],
   "source": [
    "plot_cont_clust(dbscan_cluster_0, 0)"
   ]
  },
  {
   "cell_type": "code",
   "execution_count": null,
   "metadata": {
    "hidden": true
   },
   "outputs": [],
   "source": [
    "plot_cont_clust(dbscan_cluster_1, 1)"
   ]
  },
  {
   "cell_type": "code",
   "execution_count": null,
   "metadata": {
    "hidden": true
   },
   "outputs": [],
   "source": [
    "plot_cont_clust(dbscan_cluster_2, 2)"
   ]
  },
  {
   "cell_type": "code",
   "execution_count": null,
   "metadata": {
    "hidden": true
   },
   "outputs": [],
   "source": [
    "plot_cont_clust(dbscan_cluster_3, 3)"
   ]
  },
  {
   "cell_type": "code",
   "execution_count": null,
   "metadata": {
    "hidden": true
   },
   "outputs": [],
   "source": [
    "plot_cont_clust(dbscan_cluster_4, 4)"
   ]
  },
  {
   "cell_type": "markdown",
   "metadata": {
    "heading_collapsed": true
   },
   "source": [
    "# Hierarchical Clustering"
   ]
  },
  {
   "cell_type": "code",
   "execution_count": null,
   "metadata": {
    "hidden": true
   },
   "outputs": [],
   "source": [
    "from scipy.stats import mode\n",
    "from scipy.spatial.distance import pdist\n",
    "from scipy.cluster.hierarchy import linkage, dendrogram, complete, fcluster, cut_tree"
   ]
  },
  {
   "cell_type": "code",
   "execution_count": null,
   "metadata": {
    "hidden": true
   },
   "outputs": [],
   "source": [
    "data_postclust = pd.read_csv('datapostclust_21_05.csv')"
   ]
  },
  {
   "cell_type": "code",
   "execution_count": null,
   "metadata": {
    "hidden": true
   },
   "outputs": [],
   "source": [
    "def fancy_dendrogram(*args, **kwargs):\n",
    "    max_d = kwargs.pop('max_d', None)\n",
    "    if max_d and 'color_threshold' not in kwargs:\n",
    "        kwargs['color_threshold'] = max_d\n",
    "    annotate_above = kwargs.pop('annotate_above', 0)\n",
    "\n",
    "    ddata = dendrogram(*args, **kwargs)\n",
    "\n",
    "    if not kwargs.get('no_plot', False):\n",
    "        plt.title('Hierarchical Clustering Dendrogram (truncated)')\n",
    "        plt.xlabel('sample index or (cluster size)')\n",
    "        plt.ylabel('distance')\n",
    "        for i, d, c in zip(ddata['icoord'], ddata['dcoord'], ddata['color_list']):\n",
    "            x = 0.5 * sum(i[1:3])\n",
    "            y = d[1]\n",
    "            if y > annotate_above:\n",
    "                plt.plot(x, y, 'o', c=c)\n",
    "                plt.annotate(\"%.3g\" % y, (x, y), xytext=(0, -5),\n",
    "                             textcoords='offset points',\n",
    "                             va='top', ha='center')\n",
    "        if max_d:\n",
    "            plt.axhline(y=max_d, c='k')\n",
    "    return ddata"
   ]
  },
  {
   "cell_type": "code",
   "execution_count": null,
   "metadata": {
    "hidden": true
   },
   "outputs": [],
   "source": [
    "Z = linkage(x_cluster, 'complete')"
   ]
  },
  {
   "cell_type": "code",
   "execution_count": null,
   "metadata": {
    "hidden": true
   },
   "outputs": [],
   "source": [
    "plt.figure(figsize=(25,10))\n",
    "fancy_dendrogram(\n",
    "    Z,\n",
    "    truncate_mode='level',\n",
    "    p=30,\n",
    "    leaf_rotation=45.,\n",
    "    leaf_font_size=0.,\n",
    "    show_contracted=True,\n",
    "    annotate_above=0.5,\n",
    "    max_d=0.80,\n",
    ")\n",
    "plt.show()"
   ]
  },
  {
   "cell_type": "code",
   "execution_count": null,
   "metadata": {
    "hidden": true
   },
   "outputs": [],
   "source": [
    "Z"
   ]
  },
  {
   "cell_type": "code",
   "execution_count": null,
   "metadata": {
    "hidden": true
   },
   "outputs": [],
   "source": [
    "test_labels_hier = fcluster(Z, 0.8, criterion='distance')"
   ]
  },
  {
   "cell_type": "code",
   "execution_count": null,
   "metadata": {
    "hidden": true
   },
   "outputs": [],
   "source": [
    "# data_plotclust['label_hier_complete'] = test_labels_hier\n",
    "# data_postdbscan['label_hier_complete'] = test_labels_hier\n",
    "data_postclust['label_hier_complete'] = test_labels_hier"
   ]
  },
  {
   "cell_type": "code",
   "execution_count": null,
   "metadata": {
    "hidden": true
   },
   "outputs": [],
   "source": [
    "Z2 = linkage(x_cluster, 'single')"
   ]
  },
  {
   "cell_type": "code",
   "execution_count": null,
   "metadata": {
    "hidden": true
   },
   "outputs": [],
   "source": [
    "plt.figure(figsize=(15,20))\n",
    "fancy_dendrogram(\n",
    "    Z2,\n",
    "    truncate_mode='lastp',\n",
    "    p=30,\n",
    "    leaf_rotation=90.,\n",
    "    leaf_font_size=12.,\n",
    "    show_contracted=True,\n",
    "    annotate_above=0.05,\n",
    "    max_d=0.033,\n",
    ")\n",
    "plt.show()"
   ]
  },
  {
   "cell_type": "code",
   "execution_count": null,
   "metadata": {
    "hidden": true
   },
   "outputs": [],
   "source": [
    "data_postclust['label_hier_complete'].unique()"
   ]
  },
  {
   "cell_type": "markdown",
   "metadata": {},
   "source": [
    "# Compute Silhouette "
   ]
  },
  {
   "cell_type": "code",
   "execution_count": null,
   "metadata": {},
   "outputs": [],
   "source": [
    "data_imported = pd.read_csv('node_FINAL21_05_nonoise2.csv')"
   ]
  },
  {
   "cell_type": "code",
   "execution_count": null,
   "metadata": {},
   "outputs": [],
   "source": [
    "silhouette_score(x_cluster, data_postclust['label_hier_complete'])"
   ]
  },
  {
   "cell_type": "code",
   "execution_count": null,
   "metadata": {},
   "outputs": [],
   "source": [
    "silhouette_score(x_cluster, data_postclust['kmean_label'])"
   ]
  },
  {
   "cell_type": "code",
   "execution_count": null,
   "metadata": {},
   "outputs": [],
   "source": [
    "silhouette_score(x_cluster, dbscan_label2)"
   ]
  },
  {
   "cell_type": "code",
   "execution_count": null,
   "metadata": {},
   "outputs": [],
   "source": [
    "# Retrieve label dbscan - forgo to check silhouette in dbscan section\n",
    "dbscan2 = DBSCAN(eps=0.05728282828282828, min_samples=80, metric='euclidean')\n",
    "dbscan2.fit(x_cluster)\n",
    "dbscan_label2 = dbscan2.fit_predict(x_cluster)\n",
    "Counter(dbscan_label2)"
   ]
  },
  {
   "cell_type": "code",
   "execution_count": null,
   "metadata": {},
   "outputs": [],
   "source": [
    "db_silt = data_biggroup.copy()\n",
    "db_silt['dbscan_label'] = dbscan_label2\n",
    "db_silt[['Tenure_or', 'MonthlyCharges_or', 'TotalCharges_or']]"
   ]
  },
  {
   "cell_type": "code",
   "execution_count": null,
   "metadata": {},
   "outputs": [],
   "source": [
    "x_db_silt =  data[['tenure', 'MonthlyCharges', 'TotalCharges']]"
   ]
  },
  {
   "cell_type": "code",
   "execution_count": null,
   "metadata": {},
   "outputs": [],
   "source": [
    "x_cluster_dbscan_nonoise = df_x_cluster_dbscan_sil[['MonthlyCharges', 'TotalCharges', 'Tenure']].values\n",
    "x_cluster_dbscan_nonoise"
   ]
  },
  {
   "cell_type": "code",
   "execution_count": null,
   "metadata": {},
   "outputs": [],
   "source": [
    "# Retrieve label dbscan - forgo to check silhouette in dbscan section\n",
    "dbscan3 = DBSCAN(eps=0.05728282828282828, min_samples=80, metric='euclidean')\n",
    "# dbscan3.fit(x_cluster_dbscan_nonoise)\n",
    "dbscan_label3 = dbscan3.fit_predict(x_cluster_dbscan_nonoise)\n",
    "Counter(dbscan_label3)"
   ]
  },
  {
   "cell_type": "code",
   "execution_count": null,
   "metadata": {},
   "outputs": [],
   "source": [
    "silhouette_score(x_cluster_dbscan_nonoise, dbscan_label3)"
   ]
  },
  {
   "cell_type": "markdown",
   "metadata": {},
   "source": [
    "# Association Rules"
   ]
  },
  {
   "cell_type": "code",
   "execution_count": null,
   "metadata": {},
   "outputs": [],
   "source": [
    "import fim"
   ]
  },
  {
   "cell_type": "code",
   "execution_count": null,
   "metadata": {},
   "outputs": [],
   "source": [
    "data_biggroup_mining = data_biggroup.copy()\n",
    "data_biggroup_mining.head()"
   ]
  },
  {
   "cell_type": "code",
   "execution_count": null,
   "metadata": {
    "scrolled": true
   },
   "outputs": [],
   "source": [
    "data_biggroup_mining_reduced = data_biggroup_mining[['PhoneService', 'InternetService', 'DSL', 'Fiber', 'PremiumServices', 'Contract',\n",
    "                                                     'PaperlessBilling', 'PaymentMethod', 'Tenure', 'MonthlyCharges', 'Churn']]\n",
    "new_name_reduced = ['_phSer', '_intSer', '_DSL', '_Fiber', '_premServ', '_contr', '_pLBil', '_paMe', '_tenure', '_monCh', '_churn']\n",
    "for i, col_name in enumerate(data_biggroup_mining_reduced.columns):\n",
    "    data_biggroup_mining_reduced[col_name] = data_biggroup_mining_reduced[col_name].astype(str) + str(new_name_reduced[i])"
   ]
  },
  {
   "cell_type": "code",
   "execution_count": null,
   "metadata": {},
   "outputs": [],
   "source": [
    "data_biggroup_mining_reduced.head()"
   ]
  },
  {
   "cell_type": "code",
   "execution_count": null,
   "metadata": {},
   "outputs": [],
   "source": [
    "new_name = ['_gen', '_sen', '_par', '_dep', '_phSer', '_mulLin', '_intSer', '_DSL', '_Fiber',\n",
    "            '_premServ', '_contr', '_pLBil', '_paMe', '_tenure', '_monCh', '_churn']\n",
    "for i, col_name in enumerate(data_biggroup.columns):\n",
    "    data_biggroup_mining[col_name] = data_biggroup_mining[col_name].astype(str) + str(new_name[i])"
   ]
  },
  {
   "cell_type": "code",
   "execution_count": null,
   "metadata": {},
   "outputs": [],
   "source": [
    "data_biggroup_mining.head()"
   ]
  },
  {
   "cell_type": "code",
   "execution_count": null,
   "metadata": {},
   "outputs": [],
   "source": [
    "class Decoded_rules():\n",
    "    def __init__(self, encoded_rules):\n",
    "        self.encoded_rules = encoded_rules\n",
    "        self.tree = {}\n",
    "        self._init_tree()\n",
    "        self.tree_keys = None\n",
    "        \n",
    "    def _init_tree(self):\n",
    "        set_keys = list()\n",
    "        for key in self.encoded_rules:\n",
    "            set_keys.append(key['target'])\n",
    "        set_keys = set(set_keys)\n",
    "        for key in set_keys:\n",
    "            self.tree[key] = list()\n",
    "        # populate the tree\n",
    "        for rule in self.encoded_rules:\n",
    "            tar = rule['target']\n",
    "            self.tree[tar].append((rule['rule'], rule['asb_support'], round(rule['confidence'],8), round(rule['lift'],8)))\n",
    "        self.tree_keys = self.tree.keys()\n",
    "        \n",
    "    def search_rule(self, min_conf, target):\n",
    "        res = list()\n",
    "        for tar in target:\n",
    "            if tar not in list(self.tree.keys()):\n",
    "                res.append((tar, 'No Rules Found'))\n",
    "            else:\n",
    "                r = list()\n",
    "                sub_tree = self.tree[tar]\n",
    "                for rule in sub_tree:\n",
    "                    if rule[-1] > min_conf:\n",
    "                        r.append(rule)\n",
    "                res.append((tar,r))\n",
    "        return res\n",
    "            \n",
    "    def get_rule(self, index):\n",
    "        rule = self.encoded_rules[index]\n",
    "        \n",
    "        pattern_rule = ''\n",
    "        for elem in rule['rule']:\n",
    "            pattern_rule += '\\n' + elem\n",
    "        tar = rule['target']\n",
    "        abs_sup = rule['asb_support']\n",
    "        rlt_sup = rule['rlt_support']\n",
    "        conf = rule['confidence']\n",
    "        lift = rule['lift']\n",
    "        \n",
    "        print(f\"Target: \\n{tar}\\n\\nRule: {pattern_rule}\\n\\nAbs value support: {abs_sup}\\nRlt value support: {rlt_sup}\\nConfidence: {conf}\\nLift: {lift}\")\n",
    "    \n",
    "def decode_rules(rules):\n",
    "    test = list()\n",
    "    rules.sort(key=lambda rule: rule[5], reverse=True)\n",
    "    print(f'Found {len(rules)} rules\\n')\n",
    "    for rule in rules:\n",
    "        decoded = {'target':rule[0], 'rule':rule[1], 'asb_support':rule[2], 'rlt_support':rule[3], 'confidence':rule[4], 'lift':rule[5]}\n",
    "        test.append(decoded)\n",
    "    \n",
    "    dec_rules = Decoded_rules(test)\n",
    "    return dec_rules, test"
   ]
  },
  {
   "cell_type": "code",
   "execution_count": null,
   "metadata": {},
   "outputs": [],
   "source": [
    "def print_rule(temp):\n",
    "    target = temp[0]\n",
    "    final = 'Target: ' + str(target) + '\\n\\n'\n",
    "    _temp = temp\n",
    "    for elem in temp[1]:\n",
    "        temp = elem.split('_')\n",
    "        \n",
    "        if temp[1] == 'gen':\n",
    "            inv_map_val = {0:'Female Customer', 1:'Male Customer'}\n",
    "            final += inv_map_val[int(temp[0])] + '\\n'            \n",
    "            \n",
    "        elif temp[1] == 'sen':\n",
    "            inv_map_val = {0:'No Internet Service', 1:'Yes Internet Service'}\n",
    "            final += inv_map_val[int(temp[0])] + '\\n'\n",
    "        \n",
    "        elif temp[1] == 'par':\n",
    "            inv_map_val = {0:'No Partner', 1:'Yes Partner'}\n",
    "            final += inv_map_val[int(temp[0])] + '\\n'\n",
    "        \n",
    "        elif temp[1] == 'dep':\n",
    "            inv_map_val = {0:'No Dependents', 1:'Yes Dependents'}\n",
    "            final += inv_map_val[int(temp[0])] + '\\n'\n",
    "        \n",
    "        elif temp[1] == 'phSer':\n",
    "            inv_map_val = {0:'No', 1:'Yes'}\n",
    "            final += inv_map_val[int(temp[0])] + ' Phone Service\\n'\n",
    "            \n",
    "        elif temp[1] == 'mulLin':\n",
    "            inv_map_val = {0:'No Multi Lines', 1:'Yes Multi Lines'}\n",
    "            final += inv_map_val[int(temp[0])] + '\\n'\n",
    "        \n",
    "        elif temp[1] == 'intSer':\n",
    "            inv_map_val = {0:'No Internet Service', 1:'Yes Internet Service'}\n",
    "            final += inv_map_val[int(temp[0])] + '\\n'\n",
    "            \n",
    "        elif temp[1] == 'DSL':\n",
    "            inv_map_val = {0:'No DSL', 1:'Yes DSL'}\n",
    "            final += inv_map_val[int(temp[0])] + '\\n'\n",
    "            \n",
    "        elif temp[1] == 'Fiber':\n",
    "            inv_map_val = {0:'No Fiber', 1:'Yes Fiber'}\n",
    "            final += inv_map_val[int(temp[0])] + '\\n'\n",
    "        \n",
    "        elif temp[1] == 'premServ':\n",
    "            inv_map_val = {0:'No premium Services', 1:'Yes Premium Services'}\n",
    "            final += inv_map_val[int(temp[0])] + '\\n'\n",
    "       \n",
    "        elif temp[1] == 'pLBil':\n",
    "            inv_map_val = {0:'No Paperless Billing', 1:'Yes Paperless Billing'}\n",
    "            final += inv_map_val[int(temp[0])] + '\\n'\n",
    "        \n",
    "        elif temp[1] == 'contr':\n",
    "            inv_map_val = {0:'Month-to-month', 1:'Long-term Contract'}\n",
    "            final += inv_map_val[int(temp[0])] + ' Contract\\n'\n",
    "            \n",
    "        elif temp[1] == 'paMe':\n",
    "            inv_map_val = {0:'Check', 1:'Automatic'}\n",
    "        \n",
    "        elif temp[1] == 'tenure':\n",
    "            final += temp[0] + ' (over 13 categories) Tenure range\\n'\n",
    "        \n",
    "        elif temp[1] == 'monCh':\n",
    "            final += temp[0] + ' (over 13 categories) MonthlyCharges range\\n'\n",
    "            \n",
    "        elif temp[1] == 'churn':\n",
    "            inv_map_val = {0:'No Churn', 1:'Yes Churn'}\n",
    "            final += inv_map_val[int(temp[0])] + '\\n'\n",
    "        else:\n",
    "            final += temp[1] + ' TODO!\\n'\n",
    "            \n",
    "    lift_value = _temp[-1]\n",
    "    conf_value = _temp[-2]\n",
    "    final += '\\nConfidence score: ' + str(conf_value) + '\\nLift score: ' + str(lift_value)\n",
    "    print(final)"
   ]
  },
  {
   "cell_type": "code",
   "execution_count": null,
   "metadata": {},
   "outputs": [],
   "source": [
    "def print_rule_from_tree(temp):\n",
    "    target = temp[0]\n",
    "    final = 'Target: ' + str(target) + '\\n\\n'\n",
    "    _temp = temp\n",
    "    for elem in temp[1][0]:\n",
    "        temp = elem.split('_')\n",
    "        if temp[1] == 'gen':\n",
    "            inv_map_val = {0:'Female Customer', 1:'Male Customer'}\n",
    "            final += inv_map_val[int(temp[0])] + '\\n'            \n",
    "            \n",
    "        elif temp[1] == 'sen':\n",
    "            inv_map_val = {0:'No Internet Service', 1:'Yes Internet Service'}\n",
    "            final += inv_map_val[int(temp[0])] + '\\n'\n",
    "        \n",
    "        elif temp[1] == 'par':\n",
    "            inv_map_val = {0:'No Partner', 1:'Yes Partner'}\n",
    "            final += inv_map_val[int(temp[0])] + '\\n'\n",
    "                \n",
    "        elif temp[1] == 'dep':\n",
    "            inv_map_val = {0:'No Dependents', 1:'Yes Dependents'}\n",
    "            final += inv_map_val[int(temp[0])] + '\\n'\n",
    "            \n",
    "        elif temp[1] == 'phSer':\n",
    "            inv_map_val = {0:'No', 1:'Yes'}\n",
    "            final += inv_map_val[int(temp[0])] + ' Phone Service\\n'\n",
    "            \n",
    "        elif temp[1] == 'mulLin':\n",
    "            inv_map_val = {0:'No Multi Lines', 1:'Yes Multi Lines'}\n",
    "            final += inv_map_val[int(temp[0])] + '\\n'\n",
    "        \n",
    "        elif temp[1] == 'intSer':\n",
    "            inv_map_val = {0:'No Internet Service', 1:'Yes Internet Service'}\n",
    "            final += inv_map_val[int(temp[0])] + '\\n'\n",
    "            \n",
    "        elif temp[1] == 'DSL':\n",
    "            inv_map_val = {0:'No DSL', 1:'Yes DSL'}\n",
    "            final += inv_map_val[int(temp[0])] + '\\n'\n",
    "            \n",
    "        elif temp[1] == 'Fiber':\n",
    "            inv_map_val = {0:'No Fiber', 1:'Yes Fiber'}\n",
    "            final += inv_map_val[int(temp[0])] + '\\n'\n",
    "        \n",
    "        elif temp[1] == 'premServ':\n",
    "            inv_map_val = {0:'No premium Services', 1:'Yes Premium Services'}\n",
    "            final += inv_map_val[int(temp[0])] + '\\n'\n",
    "       \n",
    "        elif temp[1] == 'pLBil':\n",
    "            inv_map_val = {0:'No Paperless Billing', 1:'Yes Paperless Billing'}\n",
    "            final += inv_map_val[int(temp[0])] + '\\n'\n",
    "        \n",
    "        elif temp[1] == 'contr':\n",
    "            inv_map_val = {0:'Month-to-month', 1:'Long-term Contract'}\n",
    "            final += inv_map_val[int(temp[0])] + ' Contract\\n'\n",
    "            \n",
    "        elif temp[1] == 'paMe':\n",
    "            inv_map_val = {0:'Check', 1:'Automatic'}\n",
    "        \n",
    "        elif temp[1] == 'tenure':\n",
    "            final += temp[0] + ' (over 13 categories) Tenure range\\n'\n",
    "        \n",
    "        elif temp[1] == 'monCh':\n",
    "            final += temp[0] + ' (over 13 categories) MonthlyCharges range\\n'\n",
    "            \n",
    "        elif temp[1] == 'churn':\n",
    "            inv_map_val = {0:'No Churn', 1:'Yes Churn'}\n",
    "            final += inv_map_val[int(temp[0])] + '\\n'\n",
    "        else:\n",
    "            final += temp[1] + ' TODO!\\n'\n",
    "            \n",
    "    lift_value = _temp[1][-1]\n",
    "    conf_value = _temp[1][-2]\n",
    "    final += '\\nConfidence score: ' + str(conf_value) + '\\nLift score: ' + str(lift_value)\n",
    "    print(final)"
   ]
  },
  {
   "cell_type": "code",
   "execution_count": null,
   "metadata": {},
   "outputs": [],
   "source": [
    "def explore_tree_todepth(decoded_rules, depth):\n",
    "    for target in decoded_rules.tree.keys():\n",
    "        print('#'*50)\n",
    "        print(f'TARGET: {target}')\n",
    "        if len(decoded_rules.tree[target]) == 0:\n",
    "            print(f'Couldn\\'t found any rule for {target}')\n",
    "        else:\n",
    "            if len(decoded_rules.tree[target]) > depth:\n",
    "                for i in range(depth):\n",
    "                    print(f'_____________________________________________________\\n\\nRule {i} of {depth}:')\n",
    "                    print_rule_from_tree((target, decoded_rules.tree[target][i]))\n",
    "                    print('\\n')\n",
    "            else:\n",
    "                max_len = len(decoded_rules.tree[target])\n",
    "                for i in range(max_len):\n",
    "                    print(f'_____________________________________________________\\n\\nRule {i} of {max_len}:')\n",
    "                    print_rule_from_tree((target, decoded_rules.tree[target][i]))\n",
    "                    print('\\n')"
   ]
  },
  {
   "cell_type": "code",
   "execution_count": null,
   "metadata": {},
   "outputs": [],
   "source": [
    "def rule_based_classifier(data, target, rules, verbose=False):\n",
    "    dict_affix_column = {'tenure':'Tenure','totCh':'TotalCharges','monCh':'MonthlyCharges','webSer':'InternetService',\n",
    "                         'teSup': 'TechSupport','onSec':'OnlineSecurity','onBk':'OnlineBackup','dvPro':'DeviceProtection',\n",
    "                         'strTv':'StreamingTv','strMv':'StreamingMovies','contr':'Contract','churn':'Churn',\n",
    "                         'pLBil':'PaperlessBilling','phSer':'PhoneService','gen':'Gender','sen':'SeniorCitizen',\n",
    "                         'par':'Partner','dep':'Dependents','mulLin':'MultipleLines', \n",
    "                         'paMe':'PaymentMethod','strServ':'StreamingService', 'intSer':'InternetService',\n",
    "                        'DSL':'DSL', 'Fiber':'Fiber', 'premServ':'PremiumServices'}\n",
    "    r = list()\n",
    "    \n",
    "    churning=True\n",
    "\n",
    "    for i in range(len(data)):\n",
    "        if verbose:\n",
    "            print(f'For sample at index {i}')\n",
    "        r_temp = list()\n",
    "        for rule in rules:\n",
    "            # print(rule)\n",
    "            _temp_rule_for_sample = list()\n",
    "            for flag in rule[0]:\n",
    "                # print(flag)\n",
    "                _flag = flag.split('_')\n",
    "                if churning:\n",
    "                    _temp_rule_for_sample.append(data.iloc[i][dict_affix_column[_flag[1]]] == flag)\n",
    "                else:\n",
    "                    _temp_rule_for_sample.append(data.iloc[i][dict_affix_column[_flag[1]]] != flag)  \n",
    "            r_temp.append((all(_temp_rule_for_sample)))\n",
    "        if verbose:\n",
    "            print(f'\\nList of bool for sample: {r_temp}')\n",
    "            print(f'Final bool for sample at index {i}: {all(r_temp)}')\n",
    "            print(f'Appendig as final result for this sample: {any(r_temp)}\\n')\n",
    "            print('#'*100)\n",
    "        r.append(any(r_temp))\n",
    "    return r"
   ]
  },
  {
   "cell_type": "code",
   "execution_count": null,
   "metadata": {},
   "outputs": [],
   "source": [
    "def evaluate_rule_based(data, target_val, pred, is_target_rule_0_churn):\n",
    "    temp_acc = 0\n",
    "    tp = 1\n",
    "    tn = 1\n",
    "    fp = 1\n",
    "    fn = 1\n",
    "    \n",
    "    for i, result in enumerate(pred):\n",
    "        temp = (data['Churn'].iloc[i].split('_')[0])\n",
    "        \n",
    "        if is_target_rule_0_churn:\n",
    "            result = not(result)\n",
    "        \n",
    "        if result == int(data[target_val].iloc[i].split('_')[0]):\n",
    "            temp_acc += 1\n",
    "            if result == 1:\n",
    "                tp += 1\n",
    "            else:\n",
    "                tn += 1\n",
    "        else:\n",
    "            if result == 1:\n",
    "                fp += 1\n",
    "            else:\n",
    "                fn += 1\n",
    "\n",
    "    precision = tp/(tp+fp)\n",
    "    recall = tp/(tp+fn)\n",
    "    accuracy = (tp+tn)/(tp+tn+fp+fn)\n",
    "    f1 = 2 * ((precision*recall)/(precision+recall))\n",
    "    res = [accuracy, precision, recall, f1]\n",
    "    return res"
   ]
  },
  {
   "cell_type": "markdown",
   "metadata": {},
   "source": [
    "**Association Rules**"
   ]
  },
  {
   "cell_type": "code",
   "execution_count": null,
   "metadata": {},
   "outputs": [],
   "source": [
    "basket = data_biggroup_mining.values\n",
    "rules = fim.apriori(basket, supp=20, zmin=2, target='r', conf=80, report='ascl')"
   ]
  },
  {
   "cell_type": "code",
   "execution_count": null,
   "metadata": {},
   "outputs": [],
   "source": [
    "decoded_rules, ordered_rules = decode_rules(rules)\n",
    "explore_tree_todepth(decoded_rules, 1)"
   ]
  },
  {
   "cell_type": "code",
   "execution_count": null,
   "metadata": {},
   "outputs": [],
   "source": [
    "for rule in ordered_rules:\n",
    "    if len(rule['rule']) > 6:\n",
    "        print(rule['target'])\n",
    "        print(rule['rule'])\n",
    "        print(rule['lift'])\n",
    "        print('#'*50)\n",
    "        print('\\n')"
   ]
  },
  {
   "cell_type": "code",
   "execution_count": null,
   "metadata": {},
   "outputs": [],
   "source": [
    "for rule in ordered_rules:\n",
    "    if rule['target'] == '0_churn' and rule['lift'] > 1.3:\n",
    "        print(rule['target'])\n",
    "        print(rule['rule'])\n",
    "        print(rule['lift'])\n",
    "        print(rule['asb_support'])\n",
    "        print('#'*50)\n",
    "        print('\\n')"
   ]
  },
  {
   "cell_type": "code",
   "execution_count": null,
   "metadata": {},
   "outputs": [],
   "source": [
    "basket_reduced = data_biggroup_mining_reduced.values"
   ]
  },
  {
   "cell_type": "code",
   "execution_count": null,
   "metadata": {},
   "outputs": [],
   "source": [
    "rules_reduced = fim.apriori(basket_reduced, supp=20, zmin=2, target='r', conf=80, report='ascl')"
   ]
  },
  {
   "cell_type": "code",
   "execution_count": null,
   "metadata": {},
   "outputs": [],
   "source": [
    "decoded_rules_reduced, ordered_rules_reduced = decode_rules(rules_reduced)\n",
    "# explore_tree_todepth(decoded_rules_reduced, 1)"
   ]
  },
  {
   "cell_type": "code",
   "execution_count": null,
   "metadata": {},
   "outputs": [],
   "source": [
    "to_avoid = list()\n",
    "current_target = ' '\n",
    "for rule in ordered_rules_reduced:\n",
    "    if rule['target'] not in to_avoid:\n",
    "        print(rule['target'])\n",
    "        to_avoid.append(rule['target'])\n",
    "        print(rule['rule'])\n",
    "        print(rule['rlt_support'])\n",
    "        print(rule['lift'])\n",
    "        print('#'*50)\n",
    "        print('\\n')"
   ]
  },
  {
   "cell_type": "markdown",
   "metadata": {},
   "source": [
    "**Frequent Pattern**"
   ]
  },
  {
   "cell_type": "code",
   "execution_count": null,
   "metadata": {},
   "outputs": [],
   "source": [
    "frequent_patterns = fim.apriori(basket_reduced, supp=20, zmin=3, target = 's')"
   ]
  },
  {
   "cell_type": "code",
   "execution_count": null,
   "metadata": {},
   "outputs": [],
   "source": [
    "len(frequent_patterns)"
   ]
  },
  {
   "cell_type": "code",
   "execution_count": null,
   "metadata": {},
   "outputs": [],
   "source": [
    "frequent_patterns.sort(key=lambda pattern: pattern[1], reverse=True)\n",
    "frequent_patterns\n",
    "frequent_patterns[:5]"
   ]
  },
  {
   "cell_type": "code",
   "execution_count": null,
   "metadata": {},
   "outputs": [],
   "source": [
    "closed_patterns = fim.apriori(basket_reduced, supp=20, zmin=3, target = 'c')\n",
    "closed_patterns.sort(key=lambda pattern: pattern[1], reverse=True)\n",
    "closed_patterns[:5]"
   ]
  },
  {
   "cell_type": "code",
   "execution_count": null,
   "metadata": {},
   "outputs": [],
   "source": [
    "maximal_patterns = fim.apriori(basket_reduced, supp=20, zmin=3, target = 'm')\n",
    "maximal_patterns.sort(key=lambda pattern: pattern[1], reverse=True)\n",
    "maximal_patterns[:5]"
   ]
  },
  {
   "cell_type": "code",
   "execution_count": null,
   "metadata": {},
   "outputs": [],
   "source": [
    "df_x_cluster.to_csv('continuous_standar.csv', index=False)"
   ]
  },
  {
   "cell_type": "markdown",
   "metadata": {},
   "source": [
    "**Looking fro 1_churn**"
   ]
  },
  {
   "cell_type": "code",
   "execution_count": null,
   "metadata": {},
   "outputs": [],
   "source": [
    "rules_reduced_lf1 = fim.apriori(basket_reduced, supp=1, zmin=2, target='r', conf=80, report='ascl')\n",
    "decoded_rules_reduced_f1, ordered_rules_reduced_f1 = decode_rules(rules_reduced_lf1)"
   ]
  },
  {
   "cell_type": "code",
   "execution_count": null,
   "metadata": {},
   "outputs": [],
   "source": [
    "to_avoid = list()\n",
    "current_target = ' '\n",
    "for rule in ordered_rules_reduced_f1:\n",
    "    if rule['target'] not in to_avoid:\n",
    "        print(rule['target'])\n",
    "        to_avoid.append(rule['target'])\n",
    "        print(rule['rule'])\n",
    "        print(rule['rlt_support'])\n",
    "        print(rule['lift'])\n",
    "        print('#'*50)\n",
    "        print('\\n')"
   ]
  },
  {
   "cell_type": "markdown",
   "metadata": {},
   "source": [
    "**Rule-based classifier**"
   ]
  },
  {
   "cell_type": "code",
   "execution_count": null,
   "metadata": {},
   "outputs": [],
   "source": [
    "#Creating function for Confusion Matrix , Precsion, Recall and F1 Score\n",
    "def plot_confusion_matrix(classifier, y_test, y_pred_test):\n",
    "    cm = confusion_matrix(y_test, y_pred_test)\n",
    "    \n",
    "    plt.clf()\n",
    "    plt.imshow(cm, interpolation='nearest', cmap='RdBu')\n",
    "    classNames = ['Churn-No','Churn-Yes']\n",
    "    plt.ylabel('True label')\n",
    "    plt.xlabel('Predicted label')\n",
    "    plt.colorbar()\n",
    "    tick_marks = np.arange(len(classNames))\n",
    "    plt.xticks(tick_marks, classNames, rotation=45)\n",
    "    plt.yticks(tick_marks, classNames)\n",
    "    s = [['TN','FP'], ['FN', 'TP']]\n",
    "    \n",
    "    for i in range(2):\n",
    "        for j in range(2):\n",
    "            plt.text(j,i, str(s[i][j])+\" = \"+str(cm[i][j]), \n",
    "                     horizontalalignment='center', color='White')\n",
    "    \n",
    "    plt.show()\n",
    "        \n",
    "    tn, fp, fn, tp = cm.ravel()\n",
    "\n",
    "    recall = tp / (tp + fn)\n",
    "    precision = tp / (tp + fp)\n",
    "    F1 = 2*recall*precision/(recall+precision)\n",
    "    accuracy = (tp + tn)/(tp+tn+fn+fp)\n",
    "\n",
    "    print(f'Accuracy: {round(accuracy,5)*100}%')\n",
    "    print('Recall: {0:0.3f}%'.format(recall*100),'\\nPrecision: {0:0.3f}%'.format(precision*100))\n",
    "    print('F1: {0:0.3f}%'.format(F1*100))\n",
    "    return;"
   ]
  },
  {
   "cell_type": "code",
   "execution_count": null,
   "metadata": {},
   "outputs": [],
   "source": [
    "# extracting rules from 80% dataset [:5634]\n",
    "basket_tr = data_biggroup_mining[:5634].values\n",
    "rules_tr = fim.apriori(basket_tr, supp=20, zmin=2, target='r', conf=80, report='ascl')\n",
    "decoded_rules_reduced_tr, ordered_rules_reduced_tr = decode_rules(rules_tr)"
   ]
  },
  {
   "cell_type": "code",
   "execution_count": null,
   "metadata": {},
   "outputs": [],
   "source": [
    "not_churn = decoded_rules_reduced.search_rule(1, ['0_churn'])"
   ]
  },
  {
   "cell_type": "code",
   "execution_count": null,
   "metadata": {},
   "outputs": [],
   "source": [
    "r = not_churn[0][1][:5]"
   ]
  },
  {
   "cell_type": "code",
   "execution_count": null,
   "metadata": {},
   "outputs": [],
   "source": [
    "r[0]"
   ]
  },
  {
   "cell_type": "code",
   "execution_count": null,
   "metadata": {},
   "outputs": [],
   "source": [
    "rule_cl_pred = rule_based_classifier(data_biggroup_mining[:5634], 'Churn', r, False)"
   ]
  },
  {
   "cell_type": "code",
   "execution_count": null,
   "metadata": {
    "scrolled": true
   },
   "outputs": [],
   "source": [
    "# EVALUATE ON TRAINING\n",
    "evaluate_rule_based(data_biggroup_mining[:5634], 'Churn', rule_cl_pred, True)"
   ]
  },
  {
   "cell_type": "code",
   "execution_count": null,
   "metadata": {},
   "outputs": [],
   "source": [
    "# EVALIATE ON TEST\n",
    "rule_cl_pred_test =rule_based_classifier(data_biggroup_mining[5634:], 'Churn', r, False)\n",
    "evaluate_rule_based(data_biggroup_mining[5634:], 'Churn', rule_cl_pred_test, True)"
   ]
  },
  {
   "cell_type": "markdown",
   "metadata": {},
   "source": [
    "**Plotting some plot for pattern mining**"
   ]
  },
  {
   "cell_type": "code",
   "execution_count": null,
   "metadata": {},
   "outputs": [],
   "source": [
    "y_to_plot = list()\n",
    "rules_list = list()\n",
    "for i in range(20,40):\n",
    "    rules_reduced = fim.apriori(basket_reduced, supp=i, zmin=5, target='r', conf=80, report='ascl')\n",
    "    rules_list.append(rules_reduced)\n",
    "    y_to_plot.append(len(rules_reduced))"
   ]
  },
  {
   "cell_type": "code",
   "execution_count": null,
   "metadata": {},
   "outputs": [],
   "source": [
    "fig = plt.figure(figsize=(20,20))\n",
    "plt.plot(range(20,40), y_to_plot)\n",
    "plt.grid(True)\n",
    "plt.xlabel('min_sup')\n",
    "plt.ylabel('number of rules')"
   ]
  },
  {
   "cell_type": "code",
   "execution_count": null,
   "metadata": {},
   "outputs": [],
   "source": [
    "decoded_rules_reduced, ordered_rules_reduced = decode_rules(rules_list[19])"
   ]
  },
  {
   "cell_type": "code",
   "execution_count": null,
   "metadata": {
    "scrolled": false
   },
   "outputs": [],
   "source": [
    "ordered_rules_reduced"
   ]
  }
 ],
 "metadata": {
  "kernelspec": {
   "display_name": "Python 3",
   "language": "python",
   "name": "python3"
  },
  "language_info": {
   "codemirror_mode": {
    "name": "ipython",
    "version": 3
   },
   "file_extension": ".py",
   "mimetype": "text/x-python",
   "name": "python",
   "nbconvert_exporter": "python",
   "pygments_lexer": "ipython3",
   "version": "3.6.5"
  }
 },
 "nbformat": 4,
 "nbformat_minor": 2
}
